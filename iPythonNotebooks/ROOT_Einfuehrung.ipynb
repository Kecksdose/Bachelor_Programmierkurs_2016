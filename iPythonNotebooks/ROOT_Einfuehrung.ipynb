{
 "cells": [
  {
   "cell_type": "markdown",
   "metadata": {
    "slideshow": {
     "slide_type": "slide"
    }
   },
   "source": [
    "# Bachelor Programmierkurs 2016\n",
    "In diesem Notebook sollen die grundlegenden Konzepte von ROOT vermittelt werden."
   ]
  },
  {
   "cell_type": "markdown",
   "metadata": {},
   "source": [
    "### Erstellung und Speicherung eines Pseudodatensatzes"
   ]
  },
  {
   "cell_type": "code",
   "execution_count": null,
   "metadata": {
    "collapsed": false,
    "slideshow": {
     "slide_type": "slide"
    }
   },
   "outputs": [],
   "source": [
    "import ROOT\n",
    "import numpy as np\n",
    "\n",
    "import os\n",
    "\n",
    "import matplotlib.pyplot\n",
    "%matplotlib inline"
   ]
  },
  {
   "cell_type": "code",
   "execution_count": null,
   "metadata": {
    "collapsed": false
   },
   "outputs": [],
   "source": [
    "filename = 'MyFirstROOTFile.root'\n",
    "treename = 'TestTree'\n",
    "dataPath = 'Data'\n",
    "\n",
    "# Erstelle einen Ordner, in welchem die angefertigten Trees gespeichert werden können (aber nur, wenn nötig!)\n",
    "if not os.path.exists(dataPath):\n",
    "    os.makedirs(dataPath)\n",
    "\n",
    "numDataPoints = 10000\n",
    "\n",
    "print('Writing a tree ...')\n",
    "\n",
    "myFile = ROOT.TFile(os.path.join(dataPath, filename), 'RECREATE')\n",
    "myTree = ROOT.TTree(treename, 'my frist created ROOT tree')\n",
    "\n",
    "# Erstelle Platzhaltervariablen \n",
    "uniform = np.zeros((1), dtype=np.float64)\n",
    "normal = np.zeros((1), dtype=np.float64)\n",
    "prod = np.zeros((1), dtype=np.float64)\n",
    "\n",
    "# Erstelle Branches, welche gefüllt werden sollen ('/D' steht für den Datentypen, hier Double)\n",
    "myTree.Branch('uniform', uniform, 'uniform/D')\n",
    "myTree.Branch('normal', normal, 'normal/D')\n",
    "myTree.Branch('prod', prod, 'prod/D')\n",
    "\n",
    "# Fülle die Branches\n",
    "for _ in xrange(numDataPoints):\n",
    "    uniform[0] = ROOT.gRandom.Uniform() \n",
    "    normal[0] = ROOT.gRandom.Gaus()\n",
    "    prod[0] = uniform[0] * normal[0]\n",
    "    myTree.Fill()\n",
    "\n",
    "# Speichere die file\n",
    "myFile.Write(\"\", ROOT.TObject.kOverwrite)\n",
    "myFile.Close()\n",
    "\n",
    "print('Done!')"
   ]
  },
  {
   "cell_type": "markdown",
   "metadata": {},
   "source": [
    "### Einlesen eines Trees und Plotten von Variablen"
   ]
  },
  {
   "cell_type": "code",
   "execution_count": null,
   "metadata": {
    "collapsed": false
   },
   "outputs": [],
   "source": [
    "plotPath = 'Plots'\n",
    "\n",
    "# Erstelle einen Ordner, in welchem die angefertigten Plots gespeichert werden können (aber nur, wenn nötig!)\n",
    "if not os.path.exists(plotPath):\n",
    "    os.makedirs(plotPath)\n",
    "\n",
    "# Lese die Datei und den Tree ein\n",
    "myFile = ROOT.TFile(os.path.join(dataPath, filename))\n",
    "myTree = myFile.Get(treename)\n",
    "\n",
    "# Erstelle ein TCanvas, auf welchem Plots erstellt werden können\n",
    "myCan = ROOT.TCanvas('can', 'can', 1200, 600)\n",
    "myCan.Divide(3, 1)\n",
    "\n",
    "# Plotte auf das TCanvas\n",
    "myCan.cd(1)\n",
    "myTree.Draw('uniform')\n",
    "\n",
    "myCan.cd(2)\n",
    "myTree.Draw('normal')\n",
    "\n",
    "myCan.cd(3)\n",
    "myTree.Draw('prod')\n",
    "\n",
    "# Male (auf) das TCanvas\n",
    "myCan.Draw()\n",
    "\n",
    "# Speichere den Plot als PDF\n",
    "myCan.SaveAs(os.path.join(plotPath, 'Overview_Plot.pdf'))"
   ]
  },
  {
   "cell_type": "markdown",
   "metadata": {},
   "source": [
    "Es lassen sich auch relativ einfach verschiedene verschiedene Kombinationen der einzelnen TBranches plotten"
   ]
  },
  {
   "cell_type": "code",
   "execution_count": null,
   "metadata": {
    "collapsed": false
   },
   "outputs": [],
   "source": [
    "myCan = ROOT.TCanvas('can', 'can', 800, 600)\n",
    "myCan.Divide(2, 1)\n",
    "\n",
    "myCan.cd(1)\n",
    "myTree.Draw('normal-prod')\n",
    "\n",
    "myCan.cd(2)\n",
    "myTree.Draw('uniform*5')\n",
    "\n",
    "myCan.Draw()\n",
    "myCan.SaveAs(os.path.join(plotPath, 'Some_Combination_Plot.pdf'))"
   ]
  },
  {
   "cell_type": "markdown",
   "metadata": {},
   "source": [
    "Die `Draw` Methode ist extrem mächtig. Experimentiere einfach selbst etwas damit herum. Die Übergabeparameter sind:\n",
    "    \n",
    "    TTree.Draw([String] variable, [String] cut, [String] draw_option, [Int] max_entries, [Int] first_entry)\n",
    "    \n",
    "Siehe auch [hier](https://root.cern.ch/doc/master/classTTree.html#a73450649dc6e54b5b94516c468523e45)"
   ]
  },
  {
   "cell_type": "code",
   "execution_count": null,
   "metadata": {
    "collapsed": false
   },
   "outputs": [],
   "source": [
    "myCan = ROOT.TCanvas('can', 'can', 800, 600)\n",
    "myCan.Divide(2, 2)\n",
    "\n",
    "# 2d-Plots sind ebenfalls möglich. Dies ist ein Scatterplot.\n",
    "myCan.cd(1)\n",
    "myTree.Draw('normal:uniform', 'prod<1')\n",
    "\n",
    "# Verschiedene draw_options machen Plots anschaulicher. Bei 2d Plots lohnt sich zum Beispiel eine 'CONTZ'–Option.\n",
    "myCan.cd(2)\n",
    "myTree.Draw('normal:uniform', 'prod<1', 'CONTZ')\n",
    "\n",
    "myCan.cd(3)\n",
    "myTree.Draw('uniform', 'normal<0.1', 'E')\n",
    "\n",
    "# Es lassen sich auch verschiedene Verteilungen auf das gleiche TCanvas malen\n",
    "myCan.cd(4)\n",
    "myTree.Draw('sqrt(normal)', '', '', 2000)\n",
    "myTree.Draw('normal', '', 'SAME *H', 2000)\n",
    "\n",
    "myCan.SaveAs(os.path.join(plotPath, 'Draw_Options_Plot.pdf'))"
   ]
  },
  {
   "cell_type": "markdown",
   "metadata": {},
   "source": [
    "### Fitten einfacher Funktionen mit ROOT\n",
    "Eine ausführliche Liste von vordefinierten Fitfunktionen befindet sich [hier](https://root.cern.ch/doc/master/classTF1.html)."
   ]
  },
  {
   "cell_type": "code",
   "execution_count": null,
   "metadata": {
    "collapsed": false
   },
   "outputs": [],
   "source": [
    "rangeAndBins = {'Bins': 20, 'Min': -3, 'Max': 3}\n",
    "\n",
    "# Erstelle ein Histogram TH1D (D steht wiederum für Double) und fülle es mit Daten\n",
    "myHist = ROOT.TH1D('myHist', 'myHist', \n",
    "                   rangeAndBins['Bins'], rangeAndBins['Min'], rangeAndBins['Max'])\n",
    "\n",
    "# Fülle das Histogram\n",
    "myTree.Draw('normal>>myHist')\n",
    "# Alternativ: \n",
    "# for i in range(myTree.GetEntries()):\n",
    "#    myTree.GetEntry(i)\n",
    "#    myHist.Fill(myTree.normal) # Python Magic\n",
    "\n",
    "\n",
    "# Erstelle eine Fitfunktion (gaus(0) = [0]*exp(-0.5*((x-[1])/[2])**2)), starte Parameterzählung bei 0\n",
    "myFitGaussian = ROOT.TF1('myFitFunction', 'gaus(0)', \n",
    "                         rangeAndBins['Min'], rangeAndBins['Max'])\n",
    "\n",
    "# Setze sinvolle Startparameter für [0], [1] und [2]\n",
    "myFitGaussian.SetParameters(1000, 0, 2)\n",
    "\n",
    "# Mache den Fit\n",
    "myFitResultGauss = myHist.Fit('myFitFunction', 'S')\n",
    "\n",
    "# Plotte die Vertreilung und die Fitkurve\n",
    "myCan = ROOT.TCanvas('myCan', 'myCan', 800, 600)\n",
    "myHist.Draw()\n",
    "myFitGaussian.Draw('SAME')\n",
    "\n",
    "myCan.Draw()\n",
    "myCan.SaveAs(os.path.join(plotPath, 'Gaussfit_Plot.pdf'))"
   ]
  },
  {
   "cell_type": "code",
   "execution_count": null,
   "metadata": {
    "collapsed": false
   },
   "outputs": [],
   "source": [
    "# Erhalte einige Informationen über den Fit\n",
    "print('Gaussfunktion: [0]*exp(-0.5*((x-[1])/[2])**2))\\n')\n",
    "\n",
    "for i in range(3):\n",
    "    print('Parameter {}: {:.3f} +- {:.3f}'.format(i, \n",
    "                                         myFitResultGauss.Parameter(i),\n",
    "                                         myFitResultGauss.Error(i)\n",
    "                                        ))\n",
    "    \n",
    "print('\\nChi2: {:.3f}'.format(myFitResultGauss.Chi2()))"
   ]
  },
  {
   "cell_type": "markdown",
   "metadata": {
    "collapsed": false
   },
   "source": [
    "### Manipulation von TTree\n",
    "\n",
    "Will man sich einen kurzen Überblick über den Inhalt eines `TTree`s verschaffen, so können folgende Methoden hilfreich sein."
   ]
  },
  {
   "cell_type": "code",
   "execution_count": null,
   "metadata": {
    "collapsed": false
   },
   "outputs": [],
   "source": [
    "filenameNew = 'MyFirstROOTFile_cutted.root'\n",
    "myCutString = 'normal > 1'\n",
    "\n",
    "# Anzahl von Einträgen im TTree\n",
    "myTreeEntries = myTree.GetEntries()\n",
    "myTreeEntriesOneSigma = myTree.GetEntries('normal > 1')\n",
    "\n",
    "print('Anzahl Einträge im Tree: {}, Anzahl Einträge nach Cut: {}'.format(\n",
    "    myTreeEntries, myTreeEntriesOneSigma))\n",
    "print('Anteil im 1-sigma-Bereich: {:.1%}'.format(float(myTreeEntriesOneSigma)/myTreeEntries))\n",
    "\n",
    "# Will man einen TTree beschneiden (um ihn z.B. anschließend zu speichern), so ist die Methode CopyTree erwähnenswert\n",
    "myNewFile = ROOT.TFile(os.path.join(dataPath, filenameNew), 'RECREATE')\n",
    "\n",
    "myNewTree = myTree.CopyTree(myCutString)\n",
    "\n",
    "# Speichere die file\n",
    "myNewFile.Write(\"\", ROOT.TObject.kOverwrite)\n",
    "myNewFile.Close()"
   ]
  },
  {
   "cell_type": "markdown",
   "metadata": {},
   "source": [
    "Zur Erinnerung: Die Normalverteilung (auch Gaußsche Normalverteilung) sollte so aussehen:\n",
    "\n",
    "![Normalverteilung](https://www.onlinelege.no/media/56/gausskurve_600x600.gif)"
   ]
  }
 ],
 "metadata": {
  "kernelspec": {
   "display_name": "Python 2",
   "language": "python",
   "name": "python2"
  },
  "language_info": {
   "codemirror_mode": {
    "name": "ipython",
    "version": 2
   },
   "file_extension": ".py",
   "mimetype": "text/x-python",
   "name": "python",
   "nbconvert_exporter": "python",
   "pygments_lexer": "ipython2",
   "version": "2.7.11"
  }
 },
 "nbformat": 4,
 "nbformat_minor": 0
}
