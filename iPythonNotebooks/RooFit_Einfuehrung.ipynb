{
 "cells": [
  {
   "cell_type": "markdown",
   "metadata": {},
   "source": [
    "# Bachelor Programmierkurs 2016\n",
    "In diesem Notebook sollen die grundlegenden Konzepte von RooFit vermittelt werden.\n",
    "\n",
    "TODO:\n",
    "    - s-Fits\n",
    "    - Latex in Plots\n",
    "    - RooFitResult.Print() klappt nicht ;("
   ]
  },
  {
   "cell_type": "code",
   "execution_count": 1,
   "metadata": {
    "collapsed": false
   },
   "outputs": [
    {
     "data": {
      "application/javascript": [
       "require(['codemirror/mode/clike/clike'], function(Clike) { console.log('ROOTaaS - C++ CodeMirror module loaded'); });"
      ]
     },
     "metadata": {},
     "output_type": "display_data"
    },
    {
     "data": {
      "application/javascript": [
       "IPython.CodeCell.config_defaults.highlight_modes['magic_text/x-c++src'] = {'reg':[/^%%cpp/]};"
      ]
     },
     "metadata": {},
     "output_type": "display_data"
    },
    {
     "name": "stdout",
     "output_type": "stream",
     "text": [
      "Welcome to ROOTaaS 6.06/00\n"
     ]
    }
   ],
   "source": [
    "import ROOT\n",
    "\n",
    "import os\n",
    "\n",
    "from IPython.display import Image\n",
    "\n",
    "import matplotlib.pyplot\n",
    "%matplotlib inline"
   ]
  },
  {
   "cell_type": "markdown",
   "metadata": {},
   "source": [
    "Erstelle ein Fitmodell, bestehend aus einer Signal- (Gaußverteilung) und einer Untergrundkomponente (Argus, sieht etwa [so](https://inspirehep.net/record/833350/files/figs_0140804-020.png) aus)"
   ]
  },
  {
   "cell_type": "code",
   "execution_count": 2,
   "metadata": {
    "collapsed": false
   },
   "outputs": [
    {
     "name": "stdout",
     "output_type": "stream",
     "text": [
      "\r\n",
      "\u001b[1mRooFit v3.60 -- Developed by Wouter Verkerke and David Kirkby\u001b[0m \r\n",
      "                Copyright (C) 2000-2013 NIKHEF, University of California & Stanford University\r\n",
      "                All rights reserved, please read http://roofit.sourceforge.net/license.txt\r\n",
      "\r\n",
      "--- RooAbsArg ---\r\n",
      "  Value State: DIRTY\r\n",
      "  Shape State: DIRTY\r\n",
      "  Attributes: \r\n",
      "  Address: 0x7ffbac26c000\r\n",
      "  Clients: \r\n",
      "  Servers: \r\n",
      "    (0x7ffbaf02b200,V-) RooGaussian::sigGauss \"sigGauss PDF\"\r\n",
      "    (0x7ffbaeb19c20,V-) RooRealVar::nSig \"#signal events\"\r\n",
      "    (0x7ffbad7b2600,V-) RooArgusBG::bkgArgus \"bkgArgus PDF\"\r\n",
      "    (0x7ffbaeb14720,V-) RooRealVar::nBkg \"#background events\"\r\n",
      "  Proxies: \r\n",
      "    !refCoefNorm -> \r\n",
      "    !pdfs -> \r\n",
      "      1)  sigGauss\r\n",
      "      2)  bkgArgus\r\n",
      "    !coefficients -> \r\n",
      "      1)  nSig\r\n",
      "      2)  nBkg\r\n",
      "--- RooAbsReal ---\r\n",
      "\r\n",
      "  Plot label is \"model\"\r\n",
      "--- RooAbsPdf ---\r\n",
      "Cached value = 0\r\n"
     ]
    }
   ],
   "source": [
    "# Observable\n",
    "mass = ROOT.RooRealVar('mass', 'mass', 5000, 5500, 'MeV/#it{c}^{2}')\n",
    "\n",
    "# Erstelle eine Signal-PDF, bestehend aus einer Gaußfunktion\n",
    "sigMean = ROOT.RooRealVar('sigMean', 'sigMean', 5280, 5200, 5300)\n",
    "sigWidth = ROOT.RooRealVar('sigWidth', 'sigWidth', 20, 1, 100)\n",
    "sigGauss = ROOT.RooGaussian('sigGauss', 'sigGauss PDF', mass, sigMean, sigWidth)\n",
    "\n",
    "# Erstelle eine Untergrund-PDF, bestehend aus einer Argusfunktion\n",
    "bkgArgPar = ROOT.RooRealVar('bkgArgPar', 'bkgArgPar', -20, -100, -1)\n",
    "bkgArgConst = ROOT.RooRealVar('bkgArgConst', 'bkgArgConst', 5291, 5200, 5400)\n",
    "bkgArgus = ROOT.RooArgusBG('bkgArgus', 'bkgArgus PDF', mass, bkgArgConst, bkgArgPar)\n",
    "\n",
    "# Kombiniere Signal + Untergrung PDF\n",
    "nSig = ROOT.RooRealVar('nSig', '#signal events', 100, 200, 10000)\n",
    "nBkg = ROOT.RooRealVar('nBkg', '#background events', 50, 200, 10000)\n",
    "model = ROOT.RooAddPdf('model', 'complete fitmodel', ROOT.RooArgList(sigGauss, bkgArgus), \n",
    "                                                     ROOT.RooArgList(nSig, nBkg))\n",
    "model.Print('V') "
   ]
  },
  {
   "cell_type": "code",
   "execution_count": 3,
   "metadata": {
    "collapsed": true
   },
   "outputs": [],
   "source": [
    "numDataPoints = 200\n",
    "\n",
    "# Generiere ein ToyMC aus der gegebenen PDF\n",
    "data = model.generate(ROOT.RooArgSet(mass), numDataPoints)"
   ]
  },
  {
   "cell_type": "code",
   "execution_count": null,
   "metadata": {
    "collapsed": false
   },
   "outputs": [],
   "source": [
    "plotPath = 'Plots'\n",
    "\n",
    "if not os.path.exists(plotPath):\n",
    "    os.makedirs(plotPath)\n",
    "\n",
    "# Führe einen Fit an die Daten durch\n",
    "fitResult = model.fitTo(data, ROOT.RooFit.Save(), ROOT.RooFit.Extended()) \n",
    "\n",
    "# Plotte die Datenpunkte und die PDF in ein Frame\n",
    "massFrame = mass.frame()\n",
    "\n",
    "data.plotOn(massFrame)\n",
    "model.plotOn(massFrame)\n",
    "\n",
    "# Das folgende funktioniert leider nicht :( ... Siehe https://root.cern.ch/phpBB3/viewtopic.php?t=7764\n",
    "#### model.plotOn(massFrame, ROOT.RooFit.Components(ROOT.RooArgSet(bkgArgus), ROOT.RooFit.LineStyle(ROOT.kDashed)))\n",
    "\n",
    "# Plotte die einzelnen Komponenten auf das Frame\n",
    "argusArgSet = ROOT.RooArgSet(bkgArgus)\n",
    "gaussArgSet = ROOT.RooArgSet(sigGauss)\n",
    "\n",
    "model.plotOn(massFrame, ROOT.RooFit.Components(argusArgSet), \n",
    "                        ROOT.RooFit.LineColor(ROOT.kRed),\n",
    "                        ROOT.RooFit.LineStyle(ROOT.kDashed))\n",
    "\n",
    "model.plotOn(massFrame, ROOT.RooFit.Components(gaussArgSet), \n",
    "                        ROOT.RooFit.LineColor(ROOT.kGreen + 3),\n",
    "                        ROOT.RooFit.LineStyle(ROOT.kDashed))\n",
    "\n",
    "\n",
    "# Erzeuge ein TCanvas und plotte das Frame.\n",
    "can = ROOT.TCanvas('can', 'can', 800, 600)\n",
    "\n",
    "massFrame.Draw()\n",
    "\n",
    "can.Draw()\n",
    "can.SaveAs(os.path.join(plotPath, 'Simple_Massfit.pdf'))"
   ]
  },
  {
   "cell_type": "code",
   "execution_count": null,
   "metadata": {
    "collapsed": false
   },
   "outputs": [],
   "source": [
    "# Stelle das Model grafisch dar\n",
    "import networkx as nx\n",
    "import pydot\n",
    "from IPython.display import Image\n",
    "\n",
    "model.graphVizTree('SimpleModel.dot')\n",
    "G = nx.drawing.nx_agraph.read_dot('SimpleModel.dot')\n",
    "model_dot = nx.to_pydot(G)\n",
    "\n",
    "model_png = model_dot.create_png(prog='dot')\n",
    "Image(model_png)"
   ]
  }
 ],
 "metadata": {
  "kernelspec": {
   "display_name": "Python 2",
   "language": "python",
   "name": "python2"
  },
  "language_info": {
   "codemirror_mode": {
    "name": "ipython",
    "version": 2
   },
   "file_extension": ".py",
   "mimetype": "text/x-python",
   "name": "python",
   "nbconvert_exporter": "python",
   "pygments_lexer": "ipython2",
   "version": "2.7.11"
  }
 },
 "nbformat": 4,
 "nbformat_minor": 0
}
