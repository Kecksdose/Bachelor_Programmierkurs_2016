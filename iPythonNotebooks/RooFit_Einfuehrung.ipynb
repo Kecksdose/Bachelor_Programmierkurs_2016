{
 "cells": [
  {
   "cell_type": "markdown",
   "metadata": {},
   "source": [
    "# Bachelor Programmierkurs 2016\n",
    "In diesem Notebook sollen die grundlegenden Konzepte von RooFit vermittelt werden."
   ]
  },
  {
   "cell_type": "code",
   "execution_count": 20,
   "metadata": {
    "collapsed": false
   },
   "outputs": [],
   "source": [
    "import ROOT\n",
    "\n",
    "import os\n",
    "\n",
    "import matplotlib.pyplot\n",
    "%matplotlib inline"
   ]
  },
  {
   "cell_type": "markdown",
   "metadata": {},
   "source": [
    "Erstelle ein Fitmodell, bestehend aus einer Signal- (Gaußverteilung) und einer Untergrundkomponente (Argus, sieht etwa [so](https://inspirehep.net/record/833350/files/figs_0140804-020.png) aus)"
   ]
  },
  {
   "cell_type": "code",
   "execution_count": 21,
   "metadata": {
    "collapsed": false
   },
   "outputs": [
    {
     "name": "stdout",
     "output_type": "stream",
     "text": [
      "--- RooAbsArg ---\r\n",
      "  Value State: DIRTY\r\n",
      "  Shape State: DIRTY\r\n",
      "  Attributes: \r\n",
      "  Address: 0x7fa0bdbdd800\r\n",
      "  Clients: \r\n",
      "  Servers: \r\n",
      "    (0x7fa0bdbb9600,V-) RooGaussian::sigGauss \"sigGauss PDF\"\r\n",
      "    (0x7fa0bf46cdf0,V-) RooRealVar::nSig \"#signal events\"\r\n",
      "    (0x7fa0bdbe5800,V-) RooArgusBG::bkgArgus \"bkgArgus PDF\"\r\n",
      "    (0x7fa0bf46d210,V-) RooRealVar::nBkg \"#background events\"\r\n",
      "  Proxies: \r\n",
      "    !refCoefNorm -> \r\n",
      "    !pdfs -> \r\n",
      "      1)  sigGauss\r\n",
      "      2)  bkgArgus\r\n",
      "    !coefficients -> \r\n",
      "      1)  nSig\r\n",
      "      2)  nBkg\r\n",
      "--- RooAbsReal ---\r\n",
      "\r\n",
      "  Plot label is \"model\"\r\n",
      "--- RooAbsPdf ---\r\n",
      "Cached value = 0\r\n"
     ]
    }
   ],
   "source": [
    "# Observable\n",
    "mass = ROOT.RooRealVar('mass', 'mass', 5000, 5500, 'GeV / #textit{c}^2')\n",
    "\n",
    "# Erstelle eine Signal-PDF, bestehend aus einer Gaußfunktion\n",
    "sigMean = ROOT.RooRealVar('sigMean', 'sigMean', 5280, 5200, 5300)\n",
    "sigWidth = ROOT.RooRealVar('sigWidth', 'sigWidth', 20, 1, 100)\n",
    "sigGauss = ROOT.RooGaussian('sigGauss', 'sigGauss PDF', mass, sigMean, sigWidth)\n",
    "\n",
    "# Erstelle eine Untergrund-PDF, bestehend aus einer Argusfunktion\n",
    "bkgArgPar = ROOT.RooRealVar('bkgArgPar', 'bkgArgPar', -20, -100, -1)\n",
    "bkgArgConst = ROOT.RooRealVar('bkgArgConst', 'bkgArgConst', 5291)\n",
    "bkgArgus = ROOT.RooArgusBG('bkgArgus', 'bkgArgus PDF', mass, bkgArgConst, bkgArgPar)\n",
    "\n",
    "# Kombiniere Signal + Untergrung PDF\n",
    "nSig = ROOT.RooRealVar('nSig', '#signal events', 1000, 200, 10000)\n",
    "nBkg = ROOT.RooRealVar('nBkg', '#background events', 1000, 200, 10000)\n",
    "model = ROOT.RooAddPdf('model', 'complete fitmodel', ROOT.RooArgList(sigGauss, bkgArgus), \n",
    "                                                     ROOT.RooArgList(nSig, nBkg))\n",
    "model.Print('V') "
   ]
  },
  {
   "cell_type": "code",
   "execution_count": 22,
   "metadata": {
    "collapsed": false
   },
   "outputs": [
    {
     "ename": "TypeError",
     "evalue": "none of the 5 overloaded methods succeeded. Full details:\n  RooDataSet* RooAbsPdf::generate(const RooArgSet& whatVars, const RooDataSet& prototype, int nEvents = 0, bool verbose = kFALSE, bool randProtoOrder = kFALSE, bool resampleProto = kFALSE) =>\n    could not convert argument 1\n  RooDataSet* RooAbsPdf::generate(const RooArgSet& whatVars, int nEvents, const RooCmdArg& arg1, const RooCmdArg& arg2 = RooCmdArg::none(), const RooCmdArg& arg3 = RooCmdArg::none(), const RooCmdArg& arg4 = RooCmdArg::none(), const RooCmdArg& arg5 = RooCmdArg::none()) =>\n    takes at least 3 arguments (2 given)\n  RooDataSet* RooAbsPdf::generate(const RooArgSet& whatVars, const RooCmdArg& arg1 = RooCmdArg::none(), const RooCmdArg& arg2 = RooCmdArg::none(), const RooCmdArg& arg3 = RooCmdArg::none(), const RooCmdArg& arg4 = RooCmdArg::none(), const RooCmdArg& arg5 = RooCmdArg::none(), const RooCmdArg& arg6 = RooCmdArg::none()) =>\n    could not convert argument 1\n  RooDataSet* RooAbsPdf::generate(RooAbsPdf::GenSpec&) =>\n    takes at most 1 arguments (2 given)\n  RooDataSet* RooAbsPdf::generate(const RooArgSet& whatVars, double nEvents = 0, bool verbose = kFALSE, bool autoBinned = kTRUE, const char* binnedTag = \"\", bool expectedData = kFALSE, bool extended = kFALSE) =>\n    could not convert argument 1",
     "output_type": "error",
     "traceback": [
      "\u001b[0;31m---------------------------------------------------------------------------\u001b[0m",
      "\u001b[0;31mTypeError\u001b[0m                                 Traceback (most recent call last)",
      "\u001b[0;32m<ipython-input-22-a4f358225432>\u001b[0m in \u001b[0;36m<module>\u001b[0;34m()\u001b[0m\n\u001b[1;32m      6\u001b[0m \u001b[0;34m\u001b[0m\u001b[0m\n\u001b[1;32m      7\u001b[0m \u001b[0;31m# Generiere ein ToyMC aus der gegebenen PDF\u001b[0m\u001b[0;34m\u001b[0m\u001b[0;34m\u001b[0m\u001b[0m\n\u001b[0;32m----> 8\u001b[0;31m \u001b[0mdata\u001b[0m \u001b[0;34m=\u001b[0m \u001b[0mmodel\u001b[0m\u001b[0;34m.\u001b[0m\u001b[0mgenerate\u001b[0m\u001b[0;34m(\u001b[0m\u001b[0mmass\u001b[0m\u001b[0;34m,\u001b[0m \u001b[0mnumDataPoints\u001b[0m\u001b[0;34m)\u001b[0m\u001b[0;34m\u001b[0m\u001b[0m\n\u001b[0m\u001b[1;32m      9\u001b[0m \u001b[0;34m\u001b[0m\u001b[0m\n\u001b[1;32m     10\u001b[0m \u001b[0;31m# Führe einen Fit an die Daten durch\u001b[0m\u001b[0;34m\u001b[0m\u001b[0;34m\u001b[0m\u001b[0m\n",
      "\u001b[0;31mTypeError\u001b[0m: none of the 5 overloaded methods succeeded. Full details:\n  RooDataSet* RooAbsPdf::generate(const RooArgSet& whatVars, const RooDataSet& prototype, int nEvents = 0, bool verbose = kFALSE, bool randProtoOrder = kFALSE, bool resampleProto = kFALSE) =>\n    could not convert argument 1\n  RooDataSet* RooAbsPdf::generate(const RooArgSet& whatVars, int nEvents, const RooCmdArg& arg1, const RooCmdArg& arg2 = RooCmdArg::none(), const RooCmdArg& arg3 = RooCmdArg::none(), const RooCmdArg& arg4 = RooCmdArg::none(), const RooCmdArg& arg5 = RooCmdArg::none()) =>\n    takes at least 3 arguments (2 given)\n  RooDataSet* RooAbsPdf::generate(const RooArgSet& whatVars, const RooCmdArg& arg1 = RooCmdArg::none(), const RooCmdArg& arg2 = RooCmdArg::none(), const RooCmdArg& arg3 = RooCmdArg::none(), const RooCmdArg& arg4 = RooCmdArg::none(), const RooCmdArg& arg5 = RooCmdArg::none(), const RooCmdArg& arg6 = RooCmdArg::none()) =>\n    could not convert argument 1\n  RooDataSet* RooAbsPdf::generate(RooAbsPdf::GenSpec&) =>\n    takes at most 1 arguments (2 given)\n  RooDataSet* RooAbsPdf::generate(const RooArgSet& whatVars, double nEvents = 0, bool verbose = kFALSE, bool autoBinned = kTRUE, const char* binnedTag = \"\", bool expectedData = kFALSE, bool extended = kFALSE) =>\n    could not convert argument 1"
     ]
    }
   ],
   "source": [
    "numDataPoints = 5000\n",
    "plotPath = 'Plots'\n",
    "\n",
    "if not os.path.exists(plotPath):\n",
    "    os.makedirs(plotPath)\n",
    "\n",
    "# Generiere ein ToyMC aus der gegebenen PDF\n",
    "data = model.generate(mass, numDataPoints)\n",
    "\n",
    "# Führe einen Fit an die Daten durch\n",
    "model.fitTo(data, ROOT.Extended())\n",
    "\n",
    "# Plotte die Datenpunkte und die PDF in ein Frame\n",
    "massFrame = mass.frame()\n",
    "\n",
    "data.plotOn(massFrame)\n",
    "model.plotOn(massFrame)\n",
    "model.plotOn(massFrame, ROOT.Components(argus), ROOT.LineStyle(ROOT.kDashed))\n",
    "\n",
    "# Erzeuge ein TCanvas und plotte das Frame.\n",
    "can = ROOT.TCanvas('can', 'can', 800, 600)\n",
    "\n",
    "massFrame.Draw()\n",
    "\n",
    "can.Draw()"
   ]
  }
 ],
 "metadata": {
  "kernelspec": {
   "display_name": "Python 2",
   "language": "python",
   "name": "python2"
  },
  "language_info": {
   "codemirror_mode": {
    "name": "ipython",
    "version": 2
   },
   "file_extension": ".py",
   "mimetype": "text/x-python",
   "name": "python",
   "nbconvert_exporter": "python",
   "pygments_lexer": "ipython2",
   "version": "2.7.11"
  }
 },
 "nbformat": 4,
 "nbformat_minor": 0
}
